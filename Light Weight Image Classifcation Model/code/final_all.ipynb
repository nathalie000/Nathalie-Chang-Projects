{
 "cells": [
  {
   "cell_type": "code",
   "execution_count": null,
   "id": "82b57a58-f327-4114-aaad-06efb98c6f43",
   "metadata": {},
   "outputs": [],
   "source": [
    "from pathlib import Path\n",
    "import numpy as np\n",
    "import random\n",
    "import torch\n",
    "from torchinfo import summary\n",
    "\n",
    "from network import TeacherNet, StudentNet\n",
    "from trainer import Trainer\n",
    "from tester import test"
   ]
  },
  {
   "cell_type": "code",
   "execution_count": null,
   "id": "559aab28-d75c-44e3-bcbd-7030cfa6f0e5",
   "metadata": {},
   "outputs": [],
   "source": [
    "# Fix the seed for reproducibility\n",
    "def set_seed():\n",
    "    seed = 999\n",
    "    random.seed(seed)\n",
    "    np.random.seed(seed)\n",
    "    torch.manual_seed(seed)\n",
    "    torch.cuda.manual_seed(seed)\n",
    "    torch.backends.cudnn.deterministic = True"
   ]
  },
  {
   "cell_type": "code",
   "execution_count": null,
   "id": "2e76672a-0ba0-4c9f-96d0-b82d93ab35ff",
   "metadata": {},
   "outputs": [],
   "source": [
    "config = {\n",
    "    'batch_size': 64,\n",
    "    'teacher_lr': 1e-3,\n",
    "    'student_lr': 1e-2,\n",
    "    'student_scheduler': 'cycle', # cycle or step\n",
    "    'teacher_epoch': 15,\n",
    "    'student_epoch': 30,\n",
    "    'max_temp': 10,\n",
    "    'min_temp': 5,\n",
    "    'aug': True,\n",
    "    'device': 'cuda',\n",
    "\n",
    "    'teacher_log_dir': Path('runs/teacher/'),\n",
    "    'student_log_dir': Path('runs/student/'),\n",
    "    \n",
    "    # prune from unpruned model\n",
    "    'student_pruned_1_log_dir': Path('runs/student_pruned_1/'),\n",
    "    'from_pruned': False,\n",
    "    'prune_rate': 0.5,\n",
    "    \n",
    "    # prune from pruned model\n",
    "    'student_pruned_2_log_dir': Path('runs/student_pruned_2/'),\n",
    "    # 'from_pruned': True,\n",
    "    # 'prune_rate': 0.6,\n",
    "}"
   ]
  },
  {
   "cell_type": "markdown",
   "id": "70769a5e",
   "metadata": {},
   "source": [
    "### Train teacher model"
   ]
  },
  {
   "cell_type": "code",
   "execution_count": null,
   "id": "464c2128-6a85-4eeb-860a-6e1d3ca0d42f",
   "metadata": {
    "scrolled": true
   },
   "outputs": [],
   "source": [
    "set_seed()\n",
    "trainer = Trainer(config, config['teacher_log_dir'])\n",
    "\n",
    "print(summary(trainer.teacher_model, input_size=(1, 3, 224, 224)))"
   ]
  },
  {
   "cell_type": "code",
   "execution_count": null,
   "id": "79ede9df-344c-47b2-9177-81ca1e650a6f",
   "metadata": {
    "scrolled": true
   },
   "outputs": [],
   "source": [
    "trainer.run(option='teacher')"
   ]
  },
  {
   "cell_type": "markdown",
   "id": "9499b749",
   "metadata": {},
   "source": [
    "### Test teacher model"
   ]
  },
  {
   "cell_type": "code",
   "execution_count": null,
   "id": "3e7dbf5a-f2d0-4c89-a3d7-02856f537b2b",
   "metadata": {},
   "outputs": [],
   "source": [
    "model = TeacherNet().to(config['device'])\n",
    "model.load_state_dict(torch.load(str(config['teacher_log_dir'] / \"training_result/teacher_model.pth\")))\n",
    "model.eval()\n",
    "\n",
    "test(model, config['teacher_log_dir'])"
   ]
  },
  {
   "cell_type": "markdown",
   "id": "cec4e5a6",
   "metadata": {},
   "source": [
    "### Train student model"
   ]
  },
  {
   "cell_type": "code",
   "execution_count": null,
   "id": "c78812e4-abae-4f3b-9920-a53b37f7c3fd",
   "metadata": {
    "scrolled": true
   },
   "outputs": [],
   "source": [
    "set_seed()\n",
    "trainer = Trainer(config, config['student_log_dir'])\n",
    "\n",
    "# load pretrained teacher model\n",
    "trainer.teacher_model.load_state_dict(torch.load(str(config['teacher_log_dir'] / 'training_result/teacher_model.pth')))\n",
    "\n",
    "print(summary(trainer.student_model, input_size=(1, 3, 224, 224)))"
   ]
  },
  {
   "cell_type": "code",
   "execution_count": null,
   "id": "44227607-2201-4db0-ad80-9ecb519cef1a",
   "metadata": {
    "scrolled": true
   },
   "outputs": [],
   "source": [
    "trainer.run(option='student')"
   ]
  },
  {
   "cell_type": "markdown",
   "id": "9887e238",
   "metadata": {},
   "source": [
    "### Test student model"
   ]
  },
  {
   "cell_type": "code",
   "execution_count": null,
   "id": "e2cd0f7f-f711-4059-8a61-c886b08ea019",
   "metadata": {},
   "outputs": [],
   "source": [
    "model = StudentNet().to(config['device'])\n",
    "model.load_state_dict(torch.load(str(config['student_log_dir'] / \"training_result/student_model.pth\")))\n",
    "model.eval()\n",
    "\n",
    "test(model, config['student_log_dir'])"
   ]
  },
  {
   "cell_type": "markdown",
   "id": "0774b446",
   "metadata": {},
   "source": [
    "### Train 50% pruned student model"
   ]
  },
  {
   "cell_type": "code",
   "execution_count": null,
   "id": "f3568e5b-b446-4b45-90ef-94c345e87966",
   "metadata": {},
   "outputs": [],
   "source": [
    "set_seed()\n",
    "trainer = Trainer(config, config['student_pruned_1_log_dir'])\n",
    "\n",
    "# load pretrained teacher model\n",
    "trainer.teacher_model.load_state_dict(torch.load(str(config['teacher_log_dir'] / 'training_result/teacher_model.pth')))\n",
    "\n",
    "if config['from_pruned']:\n",
    "    trainer.student_model.pruning(0)\n",
    "trainer.student_model.load_state_dict(torch.load(str(config['student_log_dir'] / 'training_result/student_model.pth')))\n",
    "\n",
    "if config['from_pruned']:\n",
    "    trainer.student_model.remove_pruning()\n",
    "trainer.student_model.pruning(config['prune_rate'])\n",
    "\n",
    "print(summary(trainer.student_model, input_size=(1, 3, 224, 224)))"
   ]
  },
  {
   "cell_type": "code",
   "execution_count": null,
   "id": "5a4f921b-ed52-491a-bcde-d33945e10ba7",
   "metadata": {},
   "outputs": [],
   "source": [
    "trainer.run(option='student')"
   ]
  },
  {
   "cell_type": "markdown",
   "id": "b922efe0",
   "metadata": {},
   "source": [
    "### Test 50% pruned student model"
   ]
  },
  {
   "cell_type": "code",
   "execution_count": null,
   "id": "6e2276a5-2074-4059-974b-0b5ffcfe921c",
   "metadata": {},
   "outputs": [],
   "source": [
    "model = StudentNet(prune=True).to(config['device'])\n",
    "model.load_state_dict(torch.load(str(config['student_pruned_1_log_dir'] / \"training_result/student_model.pth\")))\n",
    "model.eval()\n",
    "\n",
    "test(model, config['student_pruned_1_log_dir'])"
   ]
  },
  {
   "cell_type": "markdown",
   "id": "23c79a1d",
   "metadata": {},
   "source": [
    "### Train 60% pruned student model"
   ]
  },
  {
   "cell_type": "code",
   "execution_count": null,
   "id": "7de5d01f-ac38-4621-a210-9d7c650ad53e",
   "metadata": {},
   "outputs": [],
   "source": [
    "config['from_pruned'] = True\n",
    "config['prune_rate'] = 0.6\n",
    "\n",
    "set_seed()\n",
    "trainer = Trainer(config, config['student_pruned_2_log_dir'])\n",
    "\n",
    "# load pretrained teacher model\n",
    "trainer.teacher_model.load_state_dict(torch.load(str(config['teacher_log_dir'] / 'training_result/teacher_model.pth')))\n",
    "\n",
    "if config['from_pruned']:\n",
    "    trainer.student_model.pruning(0)\n",
    "trainer.student_model.load_state_dict(torch.load(str(config['student_pruned_1_log_dir'] / 'training_result/student_model.pth')))\n",
    "\n",
    "if config['from_pruned']:\n",
    "    trainer.student_model.remove_pruning()\n",
    "trainer.student_model.pruning(config['prune_rate'])\n",
    "\n",
    "print(summary(trainer.student_model, input_size=(1, 3, 224, 224)))"
   ]
  },
  {
   "cell_type": "code",
   "execution_count": null,
   "id": "21879495-1018-4bc4-9cf5-54d686c11749",
   "metadata": {},
   "outputs": [],
   "source": [
    "trainer.run(option='student')"
   ]
  },
  {
   "cell_type": "markdown",
   "id": "bbcfa39b",
   "metadata": {},
   "source": [
    "### Test 60% pruned student model"
   ]
  },
  {
   "cell_type": "code",
   "execution_count": null,
   "id": "96fed84b-c9c6-4ab8-bd11-904c2905c96b",
   "metadata": {},
   "outputs": [],
   "source": [
    "model = StudentNet(prune=True).to(config['device'])\n",
    "model.load_state_dict(torch.load(str(config['student_pruned_2_log_dir'] / \"training_result/student_model.pth\")))\n",
    "model.eval()\n",
    "\n",
    "test(model, config['student_pruned_2_log_dir'])"
   ]
  },
  {
   "cell_type": "code",
   "execution_count": null,
   "id": "b06656dd-081b-4963-bd29-8f33a184384b",
   "metadata": {},
   "outputs": [],
   "source": []
  }
 ],
 "metadata": {
  "kernelspec": {
   "display_name": "Python 3 (ipykernel)",
   "language": "python",
   "name": "python3"
  },
  "language_info": {
   "codemirror_mode": {
    "name": "ipython",
    "version": 3
   },
   "file_extension": ".py",
   "mimetype": "text/x-python",
   "name": "python",
   "nbconvert_exporter": "python",
   "pygments_lexer": "ipython3",
   "version": "3.8.16"
  }
 },
 "nbformat": 4,
 "nbformat_minor": 5
}

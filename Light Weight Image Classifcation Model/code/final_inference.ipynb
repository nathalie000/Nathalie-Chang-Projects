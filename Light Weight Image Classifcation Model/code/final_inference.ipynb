{
 "cells": [
  {
   "cell_type": "code",
   "execution_count": 1,
   "id": "eda7fb03-f309-4b35-978c-3e4ca77db919",
   "metadata": {},
   "outputs": [],
   "source": [
    "from pathlib import Path\n",
    "import torch\n",
    "from torchinfo import summary\n",
    "\n",
    "from network import TeacherNet, StudentNet\n",
    "from tester import test"
   ]
  },
  {
   "cell_type": "code",
   "execution_count": 2,
   "id": "569e9d62-9767-4f1d-bc6f-e30f2dfdea55",
   "metadata": {},
   "outputs": [],
   "source": [
    "config = {\n",
    "    # 'log_dir': Path('runs/teacher/'), # teacher\n",
    "    # 'log_dir': Path('runs/student/'), # student\n",
    "    # 'log_dir': Path('runs/student_pruned_1/'), # prune 50%\n",
    "    'log_dir': Path('runs/student_pruned_2/'), # prune 60%\n",
    "    # 'model_option': 'teacher',\n",
    "    'model_option': 'student',\n",
    "    'pruned': True,\n",
    "    # 'pruned': False,\n",
    "}"
   ]
  },
  {
   "cell_type": "code",
   "execution_count": 3,
   "id": "3b64dd7c-8d85-44ab-b058-ad63dcf809c3",
   "metadata": {},
   "outputs": [
    {
     "name": "stdout",
     "output_type": "stream",
     "text": [
      "===============================================================================================\n",
      "Layer (type:depth-idx)                        Output Shape              Param #\n",
      "===============================================================================================\n",
      "StudentNet                                    [1, 525]                  --\n",
      "├─ShuffleNetV2: 1-1                           [1, 525]                  --\n",
      "│    └─Sequential: 2-1                        [1, 24, 112, 112]         --\n",
      "│    │    └─Conv2d: 3-1                       [1, 24, 112, 112]         264\n",
      "│    │    └─BatchNorm2d: 3-2                  [1, 24, 112, 112]         48\n",
      "│    │    └─ReLU: 3-3                         [1, 24, 112, 112]         --\n",
      "│    └─MaxPool2d: 2-2                         [1, 24, 56, 56]           --\n",
      "│    └─Sequential: 2-3                        [1, 48, 28, 28]           --\n",
      "│    │    └─InvertedResidual: 3-4             [1, 48, 28, 28]           962\n",
      "│    │    └─InvertedResidual: 3-5             [1, 48, 28, 28]           638\n",
      "│    │    └─InvertedResidual: 3-6             [1, 48, 28, 28]           574\n",
      "│    │    └─InvertedResidual: 3-7             [1, 48, 28, 28]           582\n",
      "│    └─Sequential: 2-4                        [1, 96, 14, 14]           --\n",
      "│    │    └─InvertedResidual: 3-8             [1, 96, 14, 14]           3,243\n",
      "│    │    └─InvertedResidual: 3-9             [1, 96, 14, 14]           1,814\n",
      "│    │    └─InvertedResidual: 3-10            [1, 96, 14, 14]           1,964\n",
      "│    │    └─InvertedResidual: 3-11            [1, 96, 14, 14]           1,978\n",
      "│    │    └─InvertedResidual: 3-12            [1, 96, 14, 14]           1,972\n",
      "│    │    └─InvertedResidual: 3-13            [1, 96, 14, 14]           2,209\n",
      "│    │    └─InvertedResidual: 3-14            [1, 96, 14, 14]           2,171\n",
      "│    │    └─InvertedResidual: 3-15            [1, 96, 14, 14]           2,076\n",
      "│    └─Sequential: 2-5                        [1, 192, 7, 7]            --\n",
      "│    │    └─InvertedResidual: 3-16            [1, 192, 7, 7]            12,157\n",
      "│    │    └─InvertedResidual: 3-17            [1, 192, 7, 7]            7,872\n",
      "│    │    └─InvertedResidual: 3-18            [1, 192, 7, 7]            8,098\n",
      "│    │    └─InvertedResidual: 3-19            [1, 192, 7, 7]            8,467\n",
      "│    └─Sequential: 2-6                        [1, 64, 7, 7]             --\n",
      "│    │    └─Conv2d: 3-20                      [1, 64, 7, 7]             4,823\n",
      "│    │    └─BatchNorm2d: 3-21                 [1, 64, 7, 7]             128\n",
      "│    │    └─ReLU: 3-22                        [1, 64, 7, 7]             --\n",
      "│    └─Linear: 2-7                            [1, 525]                  17,765\n",
      "===============================================================================================\n",
      "Total params: 79,805\n",
      "Trainable params: 79,805\n",
      "Non-trainable params: 0\n",
      "Total mult-adds (M): 10.96\n",
      "===============================================================================================\n",
      "Input size (MB): 0.60\n",
      "Forward/backward pass size (MB): 15.63\n",
      "Params size (MB): 0.32\n",
      "Estimated Total Size (MB): 16.56\n",
      "===============================================================================================\n"
     ]
    }
   ],
   "source": [
    "device = 'cuda'\n",
    "if config['model_option'] == 'teacher':\n",
    "    model = TeacherNet().to(device)\n",
    "else:\n",
    "    model = StudentNet(prune=config['pruned']).to(device)\n",
    "model.load_state_dict(torch.load(str(config['log_dir'] / f\"training_result/{config['model_option']}_model.pth\")))\n",
    "model.eval()\n",
    "\n",
    "print(summary(model, input_size=(1, 3, 224, 224)))"
   ]
  },
  {
   "cell_type": "code",
   "execution_count": 4,
   "id": "39149a6e-378c-4899-b87c-54fc3b60491f",
   "metadata": {},
   "outputs": [
    {
     "name": "stderr",
     "output_type": "stream",
     "text": [
      "100%|█████████████████████████████████████████| 263/263 [00:15<00:00, 16.92it/s]"
     ]
    },
    {
     "name": "stdout",
     "output_type": "stream",
     "text": [
      "save at runs/student_pruned_2/testing_result/test_pred.csv\n"
     ]
    },
    {
     "name": "stderr",
     "output_type": "stream",
     "text": [
      "\n"
     ]
    }
   ],
   "source": [
    "test(model, config['log_dir'], device)"
   ]
  },
  {
   "cell_type": "code",
   "execution_count": null,
   "id": "553f714c-0a95-4408-86ed-742676e37fbb",
   "metadata": {},
   "outputs": [],
   "source": []
  }
 ],
 "metadata": {
  "kernelspec": {
   "display_name": "Python 3 (ipykernel)",
   "language": "python",
   "name": "python3"
  },
  "language_info": {
   "codemirror_mode": {
    "name": "ipython",
    "version": 3
   },
   "file_extension": ".py",
   "mimetype": "text/x-python",
   "name": "python",
   "nbconvert_exporter": "python",
   "pygments_lexer": "ipython3",
   "version": "3.8.16"
  }
 },
 "nbformat": 4,
 "nbformat_minor": 5
}
